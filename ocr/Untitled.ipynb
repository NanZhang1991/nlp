{
 "cells": [
  {
   "cell_type": "code",
   "execution_count": 97,
   "id": "f12fea85-cc21-4acc-8a36-b94c3262b626",
   "metadata": {},
   "outputs": [
    {
     "data": {
      "text/html": [
       "<div>\n",
       "<style scoped>\n",
       "    .dataframe tbody tr th:only-of-type {\n",
       "        vertical-align: middle;\n",
       "    }\n",
       "\n",
       "    .dataframe tbody tr th {\n",
       "        vertical-align: top;\n",
       "    }\n",
       "\n",
       "    .dataframe thead th {\n",
       "        text-align: right;\n",
       "    }\n",
       "</style>\n",
       "<table border=\"1\" class=\"dataframe\">\n",
       "  <thead>\n",
       "    <tr style=\"text-align: right;\">\n",
       "      <th></th>\n",
       "      <th>0</th>\n",
       "      <th>1</th>\n",
       "      <th>2</th>\n",
       "      <th>3</th>\n",
       "      <th>4</th>\n",
       "      <th>5</th>\n",
       "      <th>6</th>\n",
       "      <th>7</th>\n",
       "      <th>8</th>\n",
       "      <th>9</th>\n",
       "    </tr>\n",
       "  </thead>\n",
       "  <tbody>\n",
       "    <tr>\n",
       "      <th>0</th>\n",
       "      <td>1题</td>\n",
       "      <td>[2题</td>\n",
       "      <td>3题</td>\n",
       "      <td>4题</td>\n",
       "      <td>[5题</td>\n",
       "      <td>6题</td>\n",
       "      <td>7题</td>\n",
       "      <td>8题</td>\n",
       "      <td>题</td>\n",
       "      <td>10题</td>\n",
       "    </tr>\n",
       "    <tr>\n",
       "      <th>1</th>\n",
       "      <td>B</td>\n",
       "      <td>B</td>\n",
       "      <td>D</td>\n",
       "      <td>D</td>\n",
       "      <td>B</td>\n",
       "      <td>B</td>\n",
       "      <td>D</td>\n",
       "      <td>B</td>\n",
       "      <td>B</td>\n",
       "      <td>D</td>\n",
       "    </tr>\n",
       "    <tr>\n",
       "      <th>2</th>\n",
       "      <td>1赠</td>\n",
       "      <td>12题</td>\n",
       "      <td>13题</td>\n",
       "      <td>None</td>\n",
       "      <td>None</td>\n",
       "      <td>None</td>\n",
       "      <td>None</td>\n",
       "      <td>None</td>\n",
       "      <td>None</td>\n",
       "      <td>None</td>\n",
       "    </tr>\n",
       "    <tr>\n",
       "      <th>3</th>\n",
       "      <td>D</td>\n",
       "      <td>D</td>\n",
       "      <td>D</td>\n",
       "      <td>None</td>\n",
       "      <td>None</td>\n",
       "      <td>None</td>\n",
       "      <td>None</td>\n",
       "      <td>None</td>\n",
       "      <td>None</td>\n",
       "      <td>None</td>\n",
       "    </tr>\n",
       "  </tbody>\n",
       "</table>\n",
       "</div>"
      ],
      "text/plain": [
       "    0    1    2     3     4     5     6     7     8     9\n",
       "0  1题  [2题   3题    4题   [5题    6题    7题    8题     题   10题\n",
       "1   B    B    D     D     B     B     D     B     B     D\n",
       "2  1赠  12题  13题  None  None  None  None  None  None  None\n",
       "3   D    D    D  None  None  None  None  None  None  None"
      ]
     },
     "execution_count": 97,
     "metadata": {},
     "output_type": "execute_result"
    }
   ],
   "source": [
    "import numpy as np\n",
    "import pandas as  pd \n",
    "import json\n",
    "excel_path = \"data/output/table3/[3, 13, 688, 201].xlsx\"\n",
    "df = pd.read_excel(excel_path, header=None)\n",
    "df.replace(np.nan, None, inplace=True)\n",
    "df"
   ]
  },
  {
   "cell_type": "code",
   "execution_count": 92,
   "id": "7315352c-301a-45c4-afea-85142dbc3fcb",
   "metadata": {},
   "outputs": [
    {
     "name": "stdout",
     "output_type": "stream",
     "text": [
      "{\"1题\": \"B\", \"[2题\": \"B\", \"3题\": \"D\", \"4题\": \"D\", \"[5题\": \"B\", \"6题\": \"B\", \"7题\": \"D\", \"8题\": \"B\", \"题\": \"B\", \"10题\": \"D\", \"1赠\": \"D\", \"12题\": \"D\", \"13题\": \"D\", \"\": \"\"}\n"
     ]
    },
    {
     "name": "stderr",
     "output_type": "stream",
     "text": [
      "/tmp/ipykernel_8309/2093822107.py:2: FutureWarning: The default dtype for empty Series will be 'object' instead of 'float64' in a future version. Specify a dtype explicitly to silence this warning.\n",
      "  key = pd.Series()\n",
      "/tmp/ipykernel_8309/2093822107.py:3: FutureWarning: The default dtype for empty Series will be 'object' instead of 'float64' in a future version. Specify a dtype explicitly to silence this warning.\n",
      "  value =  pd.Series()\n",
      "/tmp/ipykernel_8309/2093822107.py:6: FutureWarning: The series.append method is deprecated and will be removed from pandas in a future version. Use pandas.concat instead.\n",
      "  key = key.append(row[1])\n",
      "/tmp/ipykernel_8309/2093822107.py:8: FutureWarning: The series.append method is deprecated and will be removed from pandas in a future version. Use pandas.concat instead.\n",
      "  value = value.append(row[1])\n",
      "/tmp/ipykernel_8309/2093822107.py:6: FutureWarning: The series.append method is deprecated and will be removed from pandas in a future version. Use pandas.concat instead.\n",
      "  key = key.append(row[1])\n",
      "/tmp/ipykernel_8309/2093822107.py:8: FutureWarning: The series.append method is deprecated and will be removed from pandas in a future version. Use pandas.concat instead.\n",
      "  value = value.append(row[1])\n"
     ]
    }
   ],
   "source": [
    "df.fillna('None')\n",
    "key = pd.Series()\n",
    "value =  pd.Series()\n",
    "for row in df.iterrows():\n",
    "    if row[0] % 2 ==0:\n",
    "        key = key.append(row[1])\n",
    "    else:\n",
    "        value = value.append(row[1])\n",
    "        \n",
    "dic = dict(zip(key, value))\n",
    "res_json = json.dumps(dic,ensure_ascii=False)\n",
    "print(res_json)"
   ]
  },
  {
   "cell_type": "code",
   "execution_count": 93,
   "id": "a03bb57c-1474-461f-9b3b-7b08dc1cb2ac",
   "metadata": {},
   "outputs": [
    {
     "data": {
      "text/plain": [
       "{'1题': 'B',\n",
       " '[2题': 'B',\n",
       " '3题': 'D',\n",
       " '4题': 'D',\n",
       " '[5题': 'B',\n",
       " '6题': 'B',\n",
       " '7题': 'D',\n",
       " '8题': 'B',\n",
       " '题': 'B',\n",
       " '10题': 'D',\n",
       " '1赠': 'D',\n",
       " '12题': 'D',\n",
       " '13题': 'D',\n",
       " '': '',\n",
       " 'a': 1}"
      ]
     },
     "execution_count": 93,
     "metadata": {},
     "output_type": "execute_result"
    }
   ],
   "source": [
    "dic2= {'a':1}\n",
    "dic.update(dic2)\n",
    "dic"
   ]
  }
 ],
 "metadata": {
  "kernelspec": {
   "display_name": "Python 3.9.7 64-bit ('ocr': conda)",
   "language": "python",
   "name": "python397jvsc74a57bd063e06ffb7dc970ddb139da3bbe9a473633dff2f38ba06b7c38562def8480fc16"
  },
  "language_info": {
   "codemirror_mode": {
    "name": "ipython",
    "version": 3
   },
   "file_extension": ".py",
   "mimetype": "text/x-python",
   "name": "python",
   "nbconvert_exporter": "python",
   "pygments_lexer": "ipython3",
   "version": "3.9.7"
  }
 },
 "nbformat": 4,
 "nbformat_minor": 5
}
