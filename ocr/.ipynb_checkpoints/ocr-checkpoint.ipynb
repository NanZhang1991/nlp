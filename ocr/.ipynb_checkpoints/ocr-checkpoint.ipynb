{
 "cells": [
  {
   "cell_type": "code",
   "execution_count": 1,
   "metadata": {},
   "outputs": [
    {
     "data": {
      "text/plain": [
       "'test'"
      ]
     },
     "execution_count": 1,
     "metadata": {},
     "output_type": "execute_result"
    }
   ],
   "source": [
    "import os \n",
    "os.path.basename('data/input/test.jpg').rsplit('.',1)[0]"
   ]
  },
  {
   "cell_type": "code",
   "execution_count": 2,
   "metadata": {},
   "outputs": [
    {
     "name": "stdout",
     "output_type": "stream",
     "text": [
      "['chi_sim', 'chi_sim_vert', 'chi_tra', 'chi_tra_vert', 'eng', 'osd']\n",
      " \n",
      "\n",
      "一九八一年十二\n",
      "\n",
      "月，我被招工来到二现\n",
      "河采石场，当了采石工\n",
      "人。我们干采石工作，\n",
      "一天要推上装着三百多\n",
      "斤石料的架子车，米回\n",
      "进五十里路。开初干一\n",
      "阵下来，守家全被汗水\n",
      "巢透了,从现场回来,我\n",
      "几平是拖着服向回挪，\n",
      "路腿疼得抬不起来。回\n",
      "到宿舍,身子象获了架，\n",
      "斧也不想吃，只想倒在\n",
      "床上永远别起来。当\n",
      "天，我们全宿舍的女工\n",
      "大部分都器了，我也哭\n",
      "中 。起想自己的同学，\n",
      "分到供电段、车务段、\n",
      "电务段的 都 有，而 我\n",
      " 呢，却当这采石工，心\n",
      "\n",
      "里真不是味儿。\n",
      "\n",
      "我回家见了一些同\n",
      "\n",
      "学和熟人，特别是工作\n",
      "\n",
      "条件比较好-~ 点的，她\n",
      "们问我“你现在干什\n",
      "么工作? ”我说，“采\n",
      "五工，拉石头。”她们\n",
      "说，“你咋干这个? \"”\n",
      "我说，“我咋不能干这\n",
      "个?1” 人家不咏气，\n",
      "却撤注呢。当然，这投\n",
      "歌的意思我心里明白。\n",
      "所以，我在心里对自己\n",
      "说，做采石工作不仅要\n",
      "能吃苦耐劳，还得有道\n",
      "大精神，忍展负重，默\n",
      "默无闻地承受最大的压\n",
      "力。       好\n",
      "\n",
      "思想开穿了，工作\n",
      "起来劲头也就足了。才\n",
      "开始，我一天拉二十车\n",
      "都受不了，后来每天:\n",
      "十车、 四十车\n",
      "车。现在， 我优很轻从\n",
      "地完成每天四十\n",
      "定烙，能拉到五、\n",
      "\n",
      " \n",
      "\n",
      "              \n",
      "\n",
      "  \n",
      "\n",
      " \n",
      "\n",
      "车。八月份天气正\n",
      "太阳把山上的石头都烤\n",
      "葛了，山根下连一丝风\n",
      "也没有。到了现场，不\n",
      "用说顶着太阳干活，就\n",
      "是人站一会儿头也曲。\n",
      "可是，当时正在抢修宝\n",
      "成线，石料需用 量 很\n",
      "大。场党支部号召我们\n",
      "出满勤，完定额，保证\n",
      "全场生产任务的完成。\n",
      "我想，我是共青团员，\n",
      "艰苦的工作怎能不上去\n",
      "\n",
      "                                                                  \n",
      "\n",
      "了1 ”我才二-\n",
      "么不要命啊! 但是我\n",
      "想，不要说自己是一个\n",
      "肖团员，就是一个普\n",
      "通工人，看着场内任务\n",
      "或，能不挤命吗?1\n",
      "我又咬着牙拉\n",
      "\n",
      " \n",
      "\n",
      " \n",
      "   \n",
      "\n",
      "   \n",
      "\n",
      "了九十六车“这一天,我\n",
      "真是累坏了，身上的家\n",
      "服都拧下了水。\n",
      "不小心手指被 石 头 三\n",
      "了，鲜血直流，疼得我\n",
      "头上直置冷汗。我到保\n",
      "健站包好之后，\n",
      "\n",
      " \n",
      "\n",
      "  \n",
      " \n",
      "                                                        \n",
      " \n",
      "\n",
      "从去年六月份以\n",
      "\n",
      "来，场里对我们的表扬 此\n",
      "\n",
      "可我想，\n",
      "\n",
      "山这么大，我一个人又\n",
      "能拉多少呢? 如果大家\n",
      "的积极性都滑动 起来\n",
      "了，那就能改变我们场\n",
      "的亏损面 貌。打 这 以\n",
      "后，我便经常向大家谈\n",
      "\n",
      "给 一些自己在工作中摸索\n",
      "\n",
      "出来的“小穿门\"，使\n",
      "\n",
      ":大家干活时既 能 省 点\n",
      "\n",
      "力，又能多出活。有的\n",
      "女同志身体素质 比 较\n",
      "差，四十五车的定类对\n",
      "2  轻的。 因\n",
      "\n",
      "  \n",
      "\n",
      "时|   时  就帮助她们推\n",
      "使她们赶上来。\n",
      "\n",
      " \n",
      "\n",
      " \n",
      "\f",
      "\n"
     ]
    }
   ],
   "source": [
    "from PIL import Image\n",
    "import pytesseract\n",
    "print(pytesseract.get_languages(config=''))\n",
    "result = pytesseract.image_to_string(Image.open('data/input/test.png'), lang='chi_sim')\n",
    "# print(result)"
   ]
  },
  {
   "cell_type": "markdown",
   "metadata": {},
   "source": [
    "## Paddle OCR"
   ]
  },
  {
   "cell_type": "code",
   "execution_count": 2,
   "metadata": {},
   "outputs": [
    {
     "name": "stdout",
     "output_type": "stream",
     "text": [
      "Running Verify Fluid Program ... \n",
      "Your Paddle Fluid works well on SINGLE GPU or CPU.\n",
      "Your Paddle Fluid works well on MUTIPLE GPU or CPU.\n",
      "Your Paddle Fluid is installed successfully! Let's start deep Learning with Paddle Fluid now\n"
     ]
    }
   ],
   "source": [
    "import paddle\n",
    "paddle.fluid.install_check.run_check()"
   ]
  },
  {
   "cell_type": "code",
   "execution_count": 7,
   "metadata": {},
   "outputs": [
    {
     "name": "stdout",
     "output_type": "stream",
     "text": [
      "Running Verify Fluid Program ... \n",
      "Your Paddle Fluid works well on SINGLE GPU or CPU.\n",
      "Your Paddle Fluid works well on MUTIPLE GPU or CPU.\n",
      "Your Paddle Fluid is installed successfully! Let's start deep Learning with Paddle Fluid now\n",
      "Namespace(cls_batch_num=6, cls_image_shape='3, 48, 192', cls_model_dir='/home/nan/.paddleocr/2.1/cls', cls_thresh=0.9, det=True, det_algorithm='DB', det_db_box_thresh=0.5, det_db_thresh=0.3, det_db_unclip_ratio=1.6, det_east_cover_thresh=0.1, det_east_nms_thresh=0.2, det_east_score_thresh=0.8, det_limit_side_len=960, det_limit_type='max', det_model_dir='/home/nan/.paddleocr/2.1/det/ch', drop_score=0.5, enable_mkldnn=False, gpu_mem=8000, image_dir='', ir_optim=True, label_list=['0', '180'], lang='ch', max_text_length=25, rec=True, rec_algorithm='CRNN', rec_batch_num=6, rec_char_dict_path='./ppocr/utils/ppocr_keys_v1.txt', rec_char_type='ch', rec_image_shape='3, 32, 320', rec_model_dir='/home/nan/.paddleocr/2.1/rec/ch', use_angle_cls=False, use_dilation=False, use_gpu=False, use_pdserving=False, use_space_char=True, use_tensorrt=False, use_zero_copy_run=False)\n",
      "[2021/07/16 14:52:48] root WARNING: Since the angle classifier is not initialized, the angle classifier will not be uesd during the forward process\n",
      "[2021/07/16 14:52:48] root INFO: dt_boxes num : 25, elapse : 0.38809704780578613\n",
      "[2021/07/16 14:52:49] root INFO: rec_res num  : 25, elapse : 0.3054490089416504\n"
     ]
    }
   ],
   "source": [
    "import paddle\n",
    "paddle.fluid.install_check.run_check()\n",
    "\n",
    "from paddleocr import PaddleOCR, draw_ocr\n",
    "from PIL import Image\n",
    "\n",
    "def customer_ocr(img_path, outImgPath, out_txt):\n",
    "    ocr = PaddleOCR(use_angle_cls=False, lang='ch', use_gpu=False)\n",
    "    result = ocr.ocr(img_path, cls=True)\n",
    "    with open(out_txt, 'a', encoding='utf-8') as f:\n",
    "        f.write('  ')\n",
    "        for line in result:\n",
    "            # print(line[1])\n",
    "            f.write(line[1][0])\n",
    "        f.write('\\n')\n",
    "        \n",
    "    image = Image.open(img_path).convert('RGB')\n",
    "    boxes = [line[0] for line in result]\n",
    "    txts = [line[1][0] for line in result]\n",
    "    scores = [line[1][1] for line in result]\n",
    "    im_show = draw_ocr(image, boxes, txts, scores, font_path='data/fonts/simfang.ttf')\n",
    "    im_show = Image.fromarray(im_show)\n",
    "    im_show.save(outImgPath, dpi=(300.0,300.0))\n",
    "\n",
    "img_path = '/home/nan/Pictures/test.png'\n",
    "outImgPath = '/home/nan/Pictures/' + os.path.basename(img_path).rsplit('.',1)[0] + '.jpg'\n",
    "out_txt = '/home/nan/Pictures/' + os.path.basename(img_path).rsplit('.',1)[0] + '.txt'\n",
    "customer_ocr(img_path, outImgPath, out_txt)\n"
   ]
  },
  {
   "cell_type": "code",
   "execution_count": 3,
   "metadata": {},
   "outputs": [
    {
     "ename": "ImportError",
     "evalue": "libGL.so.1: cannot open shared object file: No such file or directory",
     "output_type": "error",
     "traceback": [
      "\u001b[0;31m---------------------------------------------------------------------------\u001b[0m",
      "\u001b[0;31mImportError\u001b[0m                               Traceback (most recent call last)",
      "Input \u001b[0;32mIn [5]\u001b[0m, in \u001b[0;36m<module>\u001b[0;34m\u001b[0m\n\u001b[1;32m      1\u001b[0m \u001b[38;5;28;01mimport\u001b[39;00m \u001b[38;5;21;01mos\u001b[39;00m \n\u001b[0;32m----> 2\u001b[0m \u001b[38;5;28;01mimport\u001b[39;00m \u001b[38;5;21;01mcv2\u001b[39;00m\u001b[38;5;21;01m.\u001b[39;00m\u001b[38;5;21;01mcv2\u001b[39;00m \u001b[38;5;28;01mas\u001b[39;00m \u001b[38;5;21;01mcv2\u001b[39;00m\n\u001b[1;32m      3\u001b[0m \u001b[38;5;28;01mfrom\u001b[39;00m \u001b[38;5;21;01mpaddleocr\u001b[39;00m \u001b[38;5;28;01mimport\u001b[39;00m PPStructure, draw_structure_result, save_structure_res\n",
      "File \u001b[0;32m~/miniconda3/envs/ocr/lib/python3.9/site-packages/cv2/__init__.py:5\u001b[0m, in \u001b[0;36m<module>\u001b[0;34m\u001b[0m\n\u001b[1;32m      2\u001b[0m \u001b[38;5;28;01mimport\u001b[39;00m \u001b[38;5;21;01mos\u001b[39;00m\n\u001b[1;32m      3\u001b[0m \u001b[38;5;28;01mimport\u001b[39;00m \u001b[38;5;21;01msys\u001b[39;00m\n\u001b[0;32m----> 5\u001b[0m \u001b[38;5;28;01mfrom\u001b[39;00m \u001b[38;5;21;01m.\u001b[39;00m\u001b[38;5;21;01mcv2\u001b[39;00m \u001b[38;5;28;01mimport\u001b[39;00m \u001b[38;5;241m*\u001b[39m\n\u001b[1;32m      6\u001b[0m \u001b[38;5;28;01mfrom\u001b[39;00m \u001b[38;5;21;01m.\u001b[39;00m\u001b[38;5;21;01mdata\u001b[39;00m \u001b[38;5;28;01mimport\u001b[39;00m \u001b[38;5;241m*\u001b[39m\n\u001b[1;32m      8\u001b[0m \u001b[38;5;66;03m# wildcard import above does not import \"private\" variables like __version__\u001b[39;00m\n\u001b[1;32m      9\u001b[0m \u001b[38;5;66;03m# this makes them available\u001b[39;00m\n",
      "\u001b[0;31mImportError\u001b[0m: libGL.so.1: cannot open shared object file: No such file or directory"
     ]
    }
   ],
   "source": [
    "import os \n",
    "import cv2\n",
    "from paddleocr import PPStructure, draw_structure_result, save_structure_res"
   ]
  }
 ],
 "metadata": {
  "kernelspec": {
   "display_name": "Python [conda env:ocr]",
   "language": "python",
   "name": "conda-env-ocr-py"
  },
  "language_info": {
   "codemirror_mode": {
    "name": "ipython",
    "version": 3
   },
   "file_extension": ".py",
   "mimetype": "text/x-python",
   "name": "python",
   "nbconvert_exporter": "python",
   "pygments_lexer": "ipython3",
   "version": "3.9.7"
  }
 },
 "nbformat": 4,
 "nbformat_minor": 4
}
