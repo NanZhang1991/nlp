{
 "cells": [
  {
   "cell_type": "code",
   "execution_count": 1,
   "metadata": {},
   "outputs": [
    {
     "data": {
      "text/plain": [
       "'test'"
      ]
     },
     "execution_count": 1,
     "metadata": {},
     "output_type": "execute_result"
    }
   ],
   "source": [
    "import os \n",
    "os.path.basename('data/input/test.jpg').rsplit('.',1)[0]"
   ]
  },
  {
   "cell_type": "code",
   "execution_count": 2,
   "metadata": {},
   "outputs": [
    {
     "name": "stdout",
     "output_type": "stream",
     "text": [
      "['chi_sim', 'chi_sim_vert', 'chi_tra', 'chi_tra_vert', 'eng', 'osd']\n",
      " \n",
      "\n",
      "一九八一年十二\n",
      "\n",
      "月，我被招工来到二现\n",
      "河采石场，当了采石工\n",
      "人。我们干采石工作，\n",
      "一天要推上装着三百多\n",
      "斤石料的架子车，米回\n",
      "进五十里路。开初干一\n",
      "阵下来，守家全被汗水\n",
      "巢透了,从现场回来,我\n",
      "几平是拖着服向回挪，\n",
      "路腿疼得抬不起来。回\n",
      "到宿舍,身子象获了架，\n",
      "斧也不想吃，只想倒在\n",
      "床上永远别起来。当\n",
      "天，我们全宿舍的女工\n",
      "大部分都器了，我也哭\n",
      "中 。起想自己的同学，\n",
      "分到供电段、车务段、\n",
      "电务段的 都 有，而 我\n",
      " 呢，却当这采石工，心\n",
      "\n",
      "里真不是味儿。\n",
      "\n",
      "我回家见了一些同\n",
      "\n",
      "学和熟人，特别是工作\n",
      "\n",
      "条件比较好-~ 点的，她\n",
      "们问我“你现在干什\n",
      "么工作? ”我说，“采\n",
      "五工，拉石头。”她们\n",
      "说，“你咋干这个? \"”\n",
      "我说，“我咋不能干这\n",
      "个?1” 人家不咏气，\n",
      "却撤注呢。当然，这投\n",
      "歌的意思我心里明白。\n",
      "所以，我在心里对自己\n",
      "说，做采石工作不仅要\n",
      "能吃苦耐劳，还得有道\n",
      "大精神，忍展负重，默\n",
      "默无闻地承受最大的压\n",
      "力。       好\n",
      "\n",
      "思想开穿了，工作\n",
      "起来劲头也就足了。才\n",
      "开始，我一天拉二十车\n",
      "都受不了，后来每天:\n",
      "十车、 四十车\n",
      "车。现在， 我优很轻从\n",
      "地完成每天四十\n",
      "定烙，能拉到五、\n",
      "\n",
      " \n",
      "\n",
      "              \n",
      "\n",
      "  \n",
      "\n",
      " \n",
      "\n",
      "车。八月份天气正\n",
      "太阳把山上的石头都烤\n",
      "葛了，山根下连一丝风\n",
      "也没有。到了现场，不\n",
      "用说顶着太阳干活，就\n",
      "是人站一会儿头也曲。\n",
      "可是，当时正在抢修宝\n",
      "成线，石料需用 量 很\n",
      "大。场党支部号召我们\n",
      "出满勤，完定额，保证\n",
      "全场生产任务的完成。\n",
      "我想，我是共青团员，\n",
      "艰苦的工作怎能不上去\n",
      "\n",
      "                                                                  \n",
      "\n",
      "了1 ”我才二-\n",
      "么不要命啊! 但是我\n",
      "想，不要说自己是一个\n",
      "肖团员，就是一个普\n",
      "通工人，看着场内任务\n",
      "或，能不挤命吗?1\n",
      "我又咬着牙拉\n",
      "\n",
      " \n",
      "\n",
      " \n",
      "   \n",
      "\n",
      "   \n",
      "\n",
      "了九十六车“这一天,我\n",
      "真是累坏了，身上的家\n",
      "服都拧下了水。\n",
      "不小心手指被 石 头 三\n",
      "了，鲜血直流，疼得我\n",
      "头上直置冷汗。我到保\n",
      "健站包好之后，\n",
      "\n",
      " \n",
      "\n",
      "  \n",
      " \n",
      "                                                        \n",
      " \n",
      "\n",
      "从去年六月份以\n",
      "\n",
      "来，场里对我们的表扬 此\n",
      "\n",
      "可我想，\n",
      "\n",
      "山这么大，我一个人又\n",
      "能拉多少呢? 如果大家\n",
      "的积极性都滑动 起来\n",
      "了，那就能改变我们场\n",
      "的亏损面 貌。打 这 以\n",
      "后，我便经常向大家谈\n",
      "\n",
      "给 一些自己在工作中摸索\n",
      "\n",
      "出来的“小穿门\"，使\n",
      "\n",
      ":大家干活时既 能 省 点\n",
      "\n",
      "力，又能多出活。有的\n",
      "女同志身体素质 比 较\n",
      "差，四十五车的定类对\n",
      "2  轻的。 因\n",
      "\n",
      "  \n",
      "\n",
      "时|   时  就帮助她们推\n",
      "使她们赶上来。\n",
      "\n",
      " \n",
      "\n",
      " \n",
      "\f\n",
      "\n"
     ]
    }
   ],
   "source": [
    "from PIL import Image\n",
    "import pytesseract\n",
    "print(pytesseract.get_languages(config=''))\n",
    "result = pytesseract.image_to_string(Image.open('data/input/test.png'), lang='chi_sim')\n",
    "# print(result)"
   ]
  },
  {
   "cell_type": "markdown",
   "metadata": {},
   "source": [
    "## Paddle OCR"
   ]
  },
  {
   "cell_type": "code",
   "execution_count": 2,
   "metadata": {},
   "outputs": [
    {
     "name": "stdout",
     "output_type": "stream",
     "text": [
      "Running Verify Fluid Program ... \n",
      "Your Paddle Fluid works well on SINGLE GPU or CPU.\n",
      "Your Paddle Fluid works well on MUTIPLE GPU or CPU.\n",
      "Your Paddle Fluid is installed successfully! Let's start deep Learning with Paddle Fluid now\n"
     ]
    }
   ],
   "source": [
    "import paddle\n",
    "paddle.fluid.install_check.run_check()"
   ]
  },
  {
   "cell_type": "code",
   "execution_count": 7,
   "metadata": {},
   "outputs": [
    {
     "name": "stdout",
     "output_type": "stream",
     "text": [
      "Running Verify Fluid Program ... \n",
      "Your Paddle Fluid works well on SINGLE GPU or CPU.\n",
      "Your Paddle Fluid works well on MUTIPLE GPU or CPU.\n",
      "Your Paddle Fluid is installed successfully! Let's start deep Learning with Paddle Fluid now\n",
      "Namespace(cls_batch_num=6, cls_image_shape='3, 48, 192', cls_model_dir='/home/nan/.paddleocr/2.1/cls', cls_thresh=0.9, det=True, det_algorithm='DB', det_db_box_thresh=0.5, det_db_thresh=0.3, det_db_unclip_ratio=1.6, det_east_cover_thresh=0.1, det_east_nms_thresh=0.2, det_east_score_thresh=0.8, det_limit_side_len=960, det_limit_type='max', det_model_dir='/home/nan/.paddleocr/2.1/det/ch', drop_score=0.5, enable_mkldnn=False, gpu_mem=8000, image_dir='', ir_optim=True, label_list=['0', '180'], lang='ch', max_text_length=25, rec=True, rec_algorithm='CRNN', rec_batch_num=6, rec_char_dict_path='./ppocr/utils/ppocr_keys_v1.txt', rec_char_type='ch', rec_image_shape='3, 32, 320', rec_model_dir='/home/nan/.paddleocr/2.1/rec/ch', use_angle_cls=False, use_dilation=False, use_gpu=False, use_pdserving=False, use_space_char=True, use_tensorrt=False, use_zero_copy_run=False)\n",
      "[2021/07/16 14:52:48] root WARNING: Since the angle classifier is not initialized, the angle classifier will not be uesd during the forward process\n",
      "[2021/07/16 14:52:48] root INFO: dt_boxes num : 25, elapse : 0.38809704780578613\n",
      "[2021/07/16 14:52:49] root INFO: rec_res num  : 25, elapse : 0.3054490089416504\n"
     ]
    }
   ],
   "source": [
    "import paddle\n",
    "paddle.fluid.install_check.run_check()\n",
    "\n",
    "from paddleocr import PaddleOCR, draw_ocr\n",
    "from PIL import Image\n",
    "\n",
    "def customer_ocr(img_path, outImgPath, out_txt):\n",
    "    ocr = PaddleOCR(use_angle_cls=False, lang='ch', use_gpu=False)\n",
    "    result = ocr.ocr(img_path, cls=True)\n",
    "    with open(out_txt, 'a', encoding='utf-8') as f:\n",
    "        f.write('  ')\n",
    "        for line in result:\n",
    "            # print(line[1])\n",
    "            f.write(line[1][0])\n",
    "        f.write('\\n')\n",
    "        \n",
    "    image = Image.open(img_path).convert('RGB')\n",
    "    boxes = [line[0] for line in result]\n",
    "    txts = [line[1][0] for line in result]\n",
    "    scores = [line[1][1] for line in result]\n",
    "    im_show = draw_ocr(image, boxes, txts, scores, font_path='data/fonts/simfang.ttf')\n",
    "    im_show = Image.fromarray(im_show)\n",
    "    im_show.save(outImgPath, dpi=(300.0,300.0))\n",
    "\n",
    "img_path = '/home/nan/Pictures/test.png'\n",
    "outImgPath = '/home/nan/Pictures/' + os.path.basename(img_path).rsplit('.',1)[0] + '.jpg'\n",
    "out_txt = '/home/nan/Pictures/' + os.path.basename(img_path).rsplit('.',1)[0] + '.txt'\n",
    "customer_ocr(img_path, outImgPath, out_txt)\n"
   ]
  },
  {
   "cell_type": "code",
   "execution_count": 7,
   "metadata": {},
   "outputs": [],
   "source": [
    "import os \n",
    "import cv2\n",
    "from paddleocr import PPStructure, draw_structure_result, save_structure_res"
   ]
  },
  {
   "cell_type": "code",
   "execution_count": 10,
   "metadata": {},
   "outputs": [
    {
     "name": "stdout",
     "output_type": "stream",
     "text": [
      "Namespace(help='==SUPPRESS==', use_gpu=True, ir_optim=True, use_tensorrt=False, min_subgraph_size=15, precision='fp32', gpu_mem=500, image_dir=None, det_algorithm='DB', det_model_dir='/root/.paddleocr/2.4/ocr/det/ch/ch_PP-OCRv2_det_infer', det_limit_side_len=960, det_limit_type='max', det_db_thresh=0.3, det_db_box_thresh=0.6, det_db_unclip_ratio=1.5, max_batch_size=10, use_dilation=False, det_db_score_mode='fast', det_east_score_thresh=0.8, det_east_cover_thresh=0.1, det_east_nms_thresh=0.2, det_sast_score_thresh=0.5, det_sast_nms_thresh=0.2, det_sast_polygon=False, det_pse_thresh=0, det_pse_box_thresh=0.85, det_pse_min_area=16, det_pse_box_type='box', det_pse_scale=1, rec_algorithm='CRNN', rec_model_dir='/root/.paddleocr/2.4/ocr/rec/ch/ch_PP-OCRv2_rec_infer', rec_image_shape='3, 32, 320', rec_batch_num=6, max_text_length=25, rec_char_dict_path='/root/miniconda3/envs/ocr/lib/python3.9/site-packages/paddleocr/ppocr/utils/ppocr_keys_v1.txt', use_space_char=True, vis_font_path='./doc/fonts/simfang.ttf', drop_score=0.5, e2e_algorithm='PGNet', e2e_model_dir=None, e2e_limit_side_len=768, e2e_limit_type='max', e2e_pgnet_score_thresh=0.5, e2e_char_dict_path='./ppocr/utils/ic15_dict.txt', e2e_pgnet_valid_set='totaltext', e2e_pgnet_mode='fast', use_angle_cls=False, cls_model_dir=None, cls_image_shape='3, 48, 192', label_list=['0', '180'], cls_batch_num=6, cls_thresh=0.9, enable_mkldnn=False, cpu_threads=10, use_pdserving=False, warmup=False, draw_img_save_dir='./inference_results', save_crop_res=False, crop_res_save_dir='./output', use_mp=False, total_process_num=1, process_id=0, benchmark=False, save_log_path='./log_output/', show_log=True, use_onnx=False, output='./output', table_max_len=488, table_model_dir='/root/.paddleocr/2.4/ocr/table/en_ppocr_mobile_v2.0_table_structure_infer', table_char_type='en', table_char_dict_path='/root/miniconda3/envs/ocr/lib/python3.9/site-packages/paddleocr/ppocr/utils/dict/table_structure_dict.txt', layout_path_model='lp://PubLayNet/ppyolov2_r50vd_dcn_365e_publaynet/config', model_name_or_path=None, max_seq_length=512, label_map_path='./vqa/labels/labels_ser.txt', mode='structure', lang='ch', det=True, rec=True, type='ocr', ocr_version='PP-OCRv2', structure_version='STRUCTURE', show=True)\n"
     ]
    },
    {
     "ename": "AttributeError",
     "evalue": "module layoutparser has no attribute PaddleDetectionLayoutModel",
     "output_type": "error",
     "traceback": [
      "\u001b[0;31m---------------------------------------------------------------------------\u001b[0m",
      "\u001b[0;31mAttributeError\u001b[0m                            Traceback (most recent call last)",
      "Input \u001b[0;32mIn [10]\u001b[0m, in \u001b[0;36m<module>\u001b[0;34m\u001b[0m\n\u001b[0;32m----> 1\u001b[0m table_engine \u001b[38;5;241m=\u001b[39m \u001b[43mPPStructure\u001b[49m\u001b[43m(\u001b[49m\u001b[43mshow\u001b[49m\u001b[38;5;241;43m=\u001b[39;49m\u001b[38;5;28;43;01mTrue\u001b[39;49;00m\u001b[43m)\u001b[49m\n\u001b[1;32m      3\u001b[0m save_folder \u001b[38;5;241m=\u001b[39m \u001b[38;5;124m'\u001b[39m\u001b[38;5;124m./data/output\u001b[39m\u001b[38;5;124m'\u001b[39m\n\u001b[1;32m      4\u001b[0m img_path \u001b[38;5;241m=\u001b[39m \u001b[38;5;124m'\u001b[39m\u001b[38;5;124m./data/input/table0.jpg\u001b[39m\u001b[38;5;124m'\u001b[39m\n",
      "File \u001b[0;32m~/miniconda3/envs/ocr/lib/python3.9/site-packages/paddleocr/paddleocr.py:441\u001b[0m, in \u001b[0;36mPPStructure.__init__\u001b[0;34m(self, **kwargs)\u001b[0m\n\u001b[1;32m    437\u001b[0m     params\u001b[38;5;241m.\u001b[39mtable_char_dict_path \u001b[38;5;241m=\u001b[39m \u001b[38;5;28mstr\u001b[39m(\n\u001b[1;32m    438\u001b[0m         Path(\u001b[38;5;18m__file__\u001b[39m)\u001b[38;5;241m.\u001b[39mparent \u001b[38;5;241m/\u001b[39m table_model_config[\u001b[38;5;124m'\u001b[39m\u001b[38;5;124mdict_path\u001b[39m\u001b[38;5;124m'\u001b[39m])\n\u001b[1;32m    440\u001b[0m \u001b[38;5;28mprint\u001b[39m(params)\n\u001b[0;32m--> 441\u001b[0m \u001b[38;5;28;43msuper\u001b[39;49m\u001b[43m(\u001b[49m\u001b[43m)\u001b[49m\u001b[38;5;241;43m.\u001b[39;49m\u001b[38;5;21;43m__init__\u001b[39;49m\u001b[43m(\u001b[49m\u001b[43mparams\u001b[49m\u001b[43m)\u001b[49m\n",
      "File \u001b[0;32m~/miniconda3/envs/ocr/lib/python3.9/site-packages/paddleocr/ppstructure/predict_system.py:58\u001b[0m, in \u001b[0;36mOCRSystem.__init__\u001b[0;34m(self, args)\u001b[0m\n\u001b[1;32m     56\u001b[0m \u001b[38;5;28;01melse\u001b[39;00m:\n\u001b[1;32m     57\u001b[0m     config_path \u001b[38;5;241m=\u001b[39m args\u001b[38;5;241m.\u001b[39mlayout_path_model\n\u001b[0;32m---> 58\u001b[0m \u001b[38;5;28mself\u001b[39m\u001b[38;5;241m.\u001b[39mtable_layout \u001b[38;5;241m=\u001b[39m \u001b[43mlp\u001b[49m\u001b[38;5;241;43m.\u001b[39;49m\u001b[43mPaddleDetectionLayoutModel\u001b[49m(\n\u001b[1;32m     59\u001b[0m     config_path\u001b[38;5;241m=\u001b[39mconfig_path,\n\u001b[1;32m     60\u001b[0m     model_path\u001b[38;5;241m=\u001b[39mmodel_path,\n\u001b[1;32m     61\u001b[0m     threshold\u001b[38;5;241m=\u001b[39m\u001b[38;5;241m0.5\u001b[39m,\n\u001b[1;32m     62\u001b[0m     enable_mkldnn\u001b[38;5;241m=\u001b[39margs\u001b[38;5;241m.\u001b[39menable_mkldnn,\n\u001b[1;32m     63\u001b[0m     enforce_cpu\u001b[38;5;241m=\u001b[39m\u001b[38;5;129;01mnot\u001b[39;00m args\u001b[38;5;241m.\u001b[39muse_gpu,\n\u001b[1;32m     64\u001b[0m     thread_num\u001b[38;5;241m=\u001b[39margs\u001b[38;5;241m.\u001b[39mcpu_threads)\n\u001b[1;32m     65\u001b[0m \u001b[38;5;28mself\u001b[39m\u001b[38;5;241m.\u001b[39muse_angle_cls \u001b[38;5;241m=\u001b[39m args\u001b[38;5;241m.\u001b[39muse_angle_cls\n\u001b[1;32m     66\u001b[0m \u001b[38;5;28mself\u001b[39m\u001b[38;5;241m.\u001b[39mdrop_score \u001b[38;5;241m=\u001b[39m args\u001b[38;5;241m.\u001b[39mdrop_score\n",
      "File \u001b[0;32m~/miniconda3/envs/ocr/lib/python3.9/site-packages/layoutparser/file_utils.py:226\u001b[0m, in \u001b[0;36m_LazyModule.__getattr__\u001b[0;34m(self, name)\u001b[0m\n\u001b[1;32m    224\u001b[0m     value \u001b[38;5;241m=\u001b[39m \u001b[38;5;28mgetattr\u001b[39m(module, name)\n\u001b[1;32m    225\u001b[0m \u001b[38;5;28;01melse\u001b[39;00m:\n\u001b[0;32m--> 226\u001b[0m     \u001b[38;5;28;01mraise\u001b[39;00m \u001b[38;5;167;01mAttributeError\u001b[39;00m(\u001b[38;5;124mf\u001b[39m\u001b[38;5;124m\"\u001b[39m\u001b[38;5;124mmodule \u001b[39m\u001b[38;5;132;01m{\u001b[39;00m\u001b[38;5;28mself\u001b[39m\u001b[38;5;241m.\u001b[39m\u001b[38;5;18m__name__\u001b[39m\u001b[38;5;132;01m}\u001b[39;00m\u001b[38;5;124m has no attribute \u001b[39m\u001b[38;5;132;01m{\u001b[39;00mname\u001b[38;5;132;01m}\u001b[39;00m\u001b[38;5;124m\"\u001b[39m)\n\u001b[1;32m    228\u001b[0m \u001b[38;5;28msetattr\u001b[39m(\u001b[38;5;28mself\u001b[39m, name, value)\n\u001b[1;32m    229\u001b[0m \u001b[38;5;28;01mreturn\u001b[39;00m value\n",
      "\u001b[0;31mAttributeError\u001b[0m: module layoutparser has no attribute PaddleDetectionLayoutModel"
     ]
    }
   ],
   "source": [
    "table_engine = PPStructure(show=True)\n",
    "\n",
    "save_folder = './data/output'\n",
    "img_path = './data/input/table0.jpg'\n",
    "img = cv2.imread(img_path)\n",
    "result = table_engine(img)\n",
    "save_structure_res(result, save_folder, os.path.basename(img_path).split('.')[0])\n",
    "\n",
    "for line in result:\n",
    "    line.pop('img')\n",
    "    print(line)"
   ]
  },
  {
   "cell_type": "code",
   "execution_count": null,
   "metadata": {},
   "outputs": [],
   "source": []
  }
 ],
 "metadata": {
  "interpreter": {
   "hash": "63e06ffb7dc970ddb139da3bbe9a473633dff2f38ba06b7c38562def8480fc16"
  },
  "kernelspec": {
   "display_name": "Python [conda env:ocr]",
   "language": "python",
   "name": "python3"
  },
  "language_info": {
   "codemirror_mode": {
    "name": "ipython",
    "version": 3
   },
   "file_extension": ".py",
   "mimetype": "text/x-python",
   "name": "python",
   "nbconvert_exporter": "python",
   "pygments_lexer": "ipython3",
   "version": "3.9.7"
  }
 },
 "nbformat": 4,
 "nbformat_minor": 4
}
